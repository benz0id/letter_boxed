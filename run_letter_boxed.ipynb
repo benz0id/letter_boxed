{
 "cells": [
  {
   "cell_type": "markdown",
   "source": [
    "# Install Requirements"
   ],
   "metadata": {
    "collapsed": false
   },
   "id": "8735d90f978ef831"
  },
  {
   "cell_type": "code",
   "outputs": [],
   "source": [
    "import os\n",
    "if 'letterboxed_solver.py' not in os.listdir('.'):\n",
    "    os.system('git clone https://github.com/benz0id/letter_boxed')\n",
    "    os.system('cp letter_boxed/* .')"
   ],
   "metadata": {
    "collapsed": false,
    "ExecuteTime": {
     "end_time": "2024-03-17T19:17:16.838037Z",
     "start_time": "2024-03-17T19:17:16.831853Z"
    }
   },
   "id": "670229e31d362ac",
   "execution_count": 12
  },
  {
   "cell_type": "code",
   "execution_count": 13,
   "id": "initial_id",
   "metadata": {
    "collapsed": true,
    "ExecuteTime": {
     "end_time": "2024-03-17T19:17:17.881009Z",
     "start_time": "2024-03-17T19:17:17.877292Z"
    }
   },
   "outputs": [],
   "source": [
    "from letterboxed_solver import *"
   ]
  },
  {
   "cell_type": "markdown",
   "source": [
    "# Setup"
   ],
   "metadata": {
    "collapsed": false
   },
   "id": "44753a992294008e"
  },
  {
   "cell_type": "code",
   "outputs": [],
   "source": [
    "board = Board(('acb', 'def', 'pal', 'xyz'))"
   ],
   "metadata": {
    "collapsed": false
   },
   "id": "596a2268ce897a79",
   "execution_count": null
  },
  {
   "cell_type": "code",
   "outputs": [],
   "source": [
    "# Number of solutions to find before returning.\n",
    "NUM_SOLUTIONS = 20\n",
    "# Maximum number of words to search for.\n",
    "MAX_WORDS = 10\n",
    "# Search in random, non-alphabetic order.\n",
    "STOCHASTIC = False\n",
    "\n",
    "verbose = False\n",
    "# You can define a custom word file here.\n",
    "word_file = 'cleaned_words.txt'"
   ],
   "metadata": {
    "collapsed": false,
    "ExecuteTime": {
     "end_time": "2024-03-17T19:17:47.558224Z",
     "start_time": "2024-03-17T19:17:47.554502Z"
    }
   },
   "id": "1999c6e97afe70c7",
   "execution_count": 17
  },
  {
   "cell_type": "markdown",
   "source": [
    "# Run"
   ],
   "metadata": {
    "collapsed": false
   },
   "id": "f68ad1fb0b7d30a2"
  },
  {
   "cell_type": "code",
   "outputs": [
    {
     "name": "stdout",
     "output_type": "stream",
     "text": [
      "\n",
      "=== Solution 1 ===\n",
      "\tAdapa\n",
      "\tAlfalfa\n",
      "\tAdze\n",
      "\tExcel\n",
      "\tLayby\n",
      "\n",
      "=== Solution 2 ===\n",
      "\tAlfalfa\n",
      "\tAdapa\n",
      "\tAdze\n",
      "\tExcel\n",
      "\tLayby\n",
      "\n",
      "=== Solution 3 ===\n",
      "\tAdapa\n",
      "\tAlb\n",
      "\tBlaze\n",
      "\tExcel\n",
      "\tLeafy\n",
      "\n",
      "=== Solution 4 ===\n",
      "\tAlfalfa\n",
      "\tAdze\n",
      "\tExcel\n",
      "\tLapel\n",
      "\tLayby\n",
      "\n",
      "=== Solution 5 ===\n",
      "\tAdapa\n",
      "\tAdze\n",
      "\tExcel\n",
      "\tLeafy\n",
      "\tYbe\n",
      "\n",
      "=== Solution 6 ===\n",
      "\tAdapa\n",
      "\tAdze\n",
      "\tExcel\n",
      "\tLayby\n",
      "\tYaf\n",
      "\n",
      "=== Solution 7 ===\n",
      "\tAlfalfa\n",
      "\tAdze\n",
      "\tExcel\n",
      "\tLayby\n",
      "\tYap\n",
      "\n",
      "=== Solution 8 ===\n",
      "\tAdapa\n",
      "\tAfl\n",
      "\tLaze\n",
      "\tExcel\n",
      "\tLayby\n",
      "\n",
      "=== Solution 9 ===\n",
      "\tAzalea\n",
      "\tApex\n",
      "\tXebec\n",
      "\tClad\n",
      "\tDayfly\n",
      "\n",
      "=== Solution 10 ===\n",
      "\tAlfalfa\n",
      "\tAdz\n",
      "\tZebec\n",
      "\tCycle\n",
      "\tExpel\n",
      "\n",
      "=== Solution 11 ===\n",
      "\tAdze\n",
      "\tExcel\n",
      "\tLapel\n",
      "\tLeafy\n",
      "\tYbe\n",
      "\n",
      "=== Solution 12 ===\n",
      "\tAdze\n",
      "\tExcel\n",
      "\tLapel\n",
      "\tLayby\n",
      "\tYaf\n",
      "\n",
      "=== Solution 13 ===\n",
      "\tAdze\n",
      "\tExcel\n",
      "\tLeafy\n",
      "\tYbe\n",
      "\tExpel\n",
      "\n",
      "=== Solution 14 ===\n",
      "\tAdze\n",
      "\tExpel\n",
      "\tLeafy\n",
      "\tYbe\n",
      "\tExcel\n",
      "\n",
      "=== Solution 15 ===\n",
      "\tAdze\n",
      "\tExcel\n",
      "\tLayby\n",
      "\tYaf\n",
      "\tFlap\n",
      "\n",
      "=== Solution 16 ===\n",
      "\tAdze\n",
      "\tExcel\n",
      "\tLayby\n",
      "\tYap\n",
      "\tPelf\n",
      "\n",
      "=== Solution 17 ===\n",
      "\tAdz\n",
      "\tZebec\n",
      "\tCpa\n",
      "\tAfl\n",
      "\tLaxly\n",
      "\n",
      "=== Solution 18 ===\n",
      "\tAdz\n",
      "\tZebec\n",
      "\tCpa\n",
      "\tAxal\n",
      "\tLeafy\n",
      "\n",
      "=== Solution 19 ===\n",
      "\tAdz\n",
      "\tZebec\n",
      "\tCycle\n",
      "\tExpel\n",
      "\tLeaf\n",
      "\n",
      "=== Solution 20 ===\n",
      "\tAdz\n",
      "\tZebec\n",
      "\tClape\n",
      "\tExcel\n",
      "\tLeafy\n"
     ]
    }
   ],
   "source": [
    "# compile_dictionary()\n",
    "\n",
    "with open(word_file, 'r') as in_file:\n",
    "    raw_words = in_file.readlines()\n",
    "    raw_words = [word.strip() for word in raw_words]\n",
    "optimal_words = get_allowable_words(board, raw_words, verbose=verbose)\n",
    "\n",
    "solutions = find_solutions(board, optimal_words, MAX_WORDS + 1, NUM_SOLUTIONS, stochastic=False, verbose=verbose)\n",
    "\n",
    "for i, solution in enumerate(solutions):\n",
    "    s = f'\\n=== Solution {i + 1} ==='\n",
    "    for word in solution:\n",
    "        acc_word = word.word\n",
    "        acc_word = acc_word[0].upper() + acc_word[1:].lower()\n",
    "        s += f'\\n\\t{acc_word}'\n",
    "    print(s)\n",
    "    \n",
    "if len(solutions) == 0:\n",
    "    print('No Solutions Found!')"
   ],
   "metadata": {
    "collapsed": false,
    "ExecuteTime": {
     "end_time": "2024-03-17T19:17:54.623416Z",
     "start_time": "2024-03-17T19:17:48.286517Z"
    }
   },
   "id": "f9f7226cff2e416c",
   "execution_count": 18
  },
  {
   "cell_type": "code",
   "outputs": [],
   "source": [],
   "metadata": {
    "collapsed": false
   },
   "id": "e324aa3128f645e8"
  }
 ],
 "metadata": {
  "kernelspec": {
   "display_name": "Python 3",
   "language": "python",
   "name": "python3"
  },
  "language_info": {
   "codemirror_mode": {
    "name": "ipython",
    "version": 2
   },
   "file_extension": ".py",
   "mimetype": "text/x-python",
   "name": "python",
   "nbconvert_exporter": "python",
   "pygments_lexer": "ipython2",
   "version": "2.7.6"
  }
 },
 "nbformat": 4,
 "nbformat_minor": 5
}
