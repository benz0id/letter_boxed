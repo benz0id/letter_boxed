{
 "cells": [
  {
   "cell_type": "code",
   "execution_count": 2,
   "id": "initial_id",
   "metadata": {
    "collapsed": true,
    "ExecuteTime": {
     "end_time": "2024-03-17T18:47:13.815035Z",
     "start_time": "2024-03-17T18:47:13.767076Z"
    }
   },
   "outputs": [],
   "source": [
    "from letterboxed_solver import *"
   ]
  },
  {
   "cell_type": "markdown",
   "source": [
    "# Define Your Board"
   ],
   "metadata": {
    "collapsed": false
   },
   "id": "44753a992294008e"
  },
  {
   "cell_type": "code",
   "outputs": [],
   "source": [
    "board = Board(('acb', 'def', 'pal', 'xyz'))"
   ],
   "metadata": {
    "collapsed": false,
    "ExecuteTime": {
     "end_time": "2024-03-17T18:47:13.817349Z",
     "start_time": "2024-03-17T18:47:13.815861Z"
    }
   },
   "id": "1999c6e97afe70c7",
   "execution_count": 3
  },
  {
   "cell_type": "code",
   "outputs": [],
   "source": [
    "# Optional Parameters\n",
    "\n",
    "# Number of solutions to find before returning.\n",
    "NUM_SOLUTIONS = 20\n",
    "# Maximum number of words to search for.\n",
    "MAX_WORDS = 10\n",
    "# Search in random, non-alphabetic order.\n",
    "STOCHASTIC = False"
   ],
   "metadata": {
    "collapsed": false,
    "ExecuteTime": {
     "end_time": "2024-03-17T18:47:13.819315Z",
     "start_time": "2024-03-17T18:47:13.817982Z"
    }
   },
   "id": "4ed90a79808f18fe",
   "execution_count": 4
  },
  {
   "cell_type": "markdown",
   "source": [
    "# Parse, Filter, and Optimize Words"
   ],
   "metadata": {
    "collapsed": false
   },
   "id": "f68ad1fb0b7d30a2"
  },
  {
   "cell_type": "code",
   "outputs": [
    {
     "name": "stdout",
     "output_type": "stream",
     "text": [
      "\n",
      " Total Entries: 109629\n",
      " Bad Entries: 0\n",
      " Non-Alphabetical Entries: 8802\n",
      " Incompatible with Board: 100586\n",
      " Considered: 241\n",
      " Final Optimal Words: 97\n"
     ]
    }
   ],
   "source": [
    "# compile_dictionary()\n",
    "word_file = 'cleaned_words.txt'\n",
    "with open(word_file, 'r') as in_file:\n",
    "    raw_words = in_file.readlines()\n",
    "    raw_words = [word.strip() for word in raw_words]\n",
    "optimal_words = get_allowable_words(board, raw_words, verbose=True)"
   ],
   "metadata": {
    "collapsed": false,
    "ExecuteTime": {
     "end_time": "2024-03-17T18:54:34.501537Z",
     "start_time": "2024-03-17T18:54:34.453797Z"
    }
   },
   "id": "f9f7226cff2e416c",
   "execution_count": 9
  },
  {
   "cell_type": "markdown",
   "source": [
    "# Get Solutions"
   ],
   "metadata": {
    "collapsed": false
   },
   "id": "72d5ecd4f6bc9957"
  },
  {
   "cell_type": "code",
   "outputs": [
    {
     "ename": "KeyboardInterrupt",
     "evalue": "",
     "output_type": "error",
     "traceback": [
      "\u001B[0;31m---------------------------------------------------------------------------\u001B[0m",
      "\u001B[0;31mKeyboardInterrupt\u001B[0m                         Traceback (most recent call last)",
      "Cell \u001B[0;32mIn[6], line 1\u001B[0m\n\u001B[0;32m----> 1\u001B[0m solutions \u001B[38;5;241m=\u001B[39m \u001B[43mfind_solutions\u001B[49m\u001B[43m(\u001B[49m\u001B[43mboard\u001B[49m\u001B[43m,\u001B[49m\u001B[43m \u001B[49m\u001B[43moptimal_words\u001B[49m\u001B[43m,\u001B[49m\u001B[43m \u001B[49m\u001B[43mMAX_WORDS\u001B[49m\u001B[43m \u001B[49m\u001B[38;5;241;43m+\u001B[39;49m\u001B[43m \u001B[49m\u001B[38;5;241;43m1\u001B[39;49m\u001B[43m,\u001B[49m\u001B[43m \u001B[49m\u001B[43mNUM_SOLUTIONS\u001B[49m\u001B[43m,\u001B[49m\u001B[43m \u001B[49m\u001B[43mstochastic\u001B[49m\u001B[38;5;241;43m=\u001B[39;49m\u001B[38;5;28;43;01mFalse\u001B[39;49;00m\u001B[43m,\u001B[49m\u001B[43m \u001B[49m\u001B[43mverbose\u001B[49m\u001B[38;5;241;43m=\u001B[39;49m\u001B[38;5;28;43;01mTrue\u001B[39;49;00m\u001B[43m)\u001B[49m\n",
      "File \u001B[0;32m~/PycharmProjects/letter_boxed/letterboxed_solver.py:508\u001B[0m, in \u001B[0;36mfind_solutions\u001B[0;34m(board, optimal_words_dict, max_depth, num_solutions_to_find, max_iterations, stochastic, print_every, verbose)\u001B[0m\n\u001B[1;32m      0\u001B[0m <Error retrieving source code with stack_data see ipython/ipython#13598>\n",
      "File \u001B[0;32m~/PycharmProjects/letter_boxed/letterboxed_solver.py:459\u001B[0m, in \u001B[0;36mget_word_attr_iterator\u001B[0;34m(self, word_dict)\u001B[0m\n\u001B[1;32m    457\u001B[0m possible_solutions \u001B[38;5;241m=\u001B[39m []\n\u001B[1;32m    458\u001B[0m \u001B[38;5;28;01mfor\u001B[39;00m i \u001B[38;5;129;01min\u001B[39;00m \u001B[38;5;28mrange\u001B[39m(\u001B[38;5;28mlen\u001B[39m(\u001B[38;5;28mself\u001B[39m\u001B[38;5;241m.\u001B[39mchain) \u001B[38;5;241m-\u001B[39m \u001B[38;5;241m1\u001B[39m):\n\u001B[0;32m--> 459\u001B[0m     first \u001B[38;5;241m=\u001B[39m \u001B[38;5;28mself\u001B[39m\u001B[38;5;241m.\u001B[39mchain[i]\n\u001B[1;32m    460\u001B[0m     last \u001B[38;5;241m=\u001B[39m \u001B[38;5;28mself\u001B[39m\u001B[38;5;241m.\u001B[39mchain[i \u001B[38;5;241m+\u001B[39m \u001B[38;5;241m1\u001B[39m]\n\u001B[1;32m    461\u001B[0m     possible_words \u001B[38;5;241m=\u001B[39m \u001B[38;5;28mlist\u001B[39m(word_dict\u001B[38;5;241m.\u001B[39md[first][last]\u001B[38;5;241m.\u001B[39mvalues())\n",
      "\u001B[0;31mKeyboardInterrupt\u001B[0m: "
     ]
    }
   ],
   "source": [
    "solutions = find_solutions(board, optimal_words, MAX_WORDS + 1, NUM_SOLUTIONS, stochastic=False, verbose=True)"
   ],
   "metadata": {
    "collapsed": false,
    "ExecuteTime": {
     "end_time": "2024-03-17T18:53:24.367612Z",
     "start_time": "2024-03-17T18:50:33.666240Z"
    }
   },
   "id": "267a34bd8a836b2d",
   "execution_count": 6
  },
  {
   "cell_type": "code",
   "outputs": [],
   "source": [
    "for i, solution in enumerate(solutions):\n",
    "    s = f'\\n=== Solution {i + 1} ==='\n",
    "    for word in solution:\n",
    "        acc_word = word.word\n",
    "        acc_word = acc_word[0].upper() + acc_word[1:].lower()\n",
    "        s += f'\\n\\t{acc_word}'\n",
    "    print(s)"
   ],
   "metadata": {
    "collapsed": false,
    "ExecuteTime": {
     "end_time": "2024-03-17T18:53:24.368509Z",
     "start_time": "2024-03-17T18:53:24.368449Z"
    }
   },
   "id": "351eabb3a56c3047",
   "execution_count": null
  }
 ],
 "metadata": {
  "kernelspec": {
   "display_name": "Python 3",
   "language": "python",
   "name": "python3"
  },
  "language_info": {
   "codemirror_mode": {
    "name": "ipython",
    "version": 2
   },
   "file_extension": ".py",
   "mimetype": "text/x-python",
   "name": "python",
   "nbconvert_exporter": "python",
   "pygments_lexer": "ipython2",
   "version": "2.7.6"
  }
 },
 "nbformat": 4,
 "nbformat_minor": 5
}
