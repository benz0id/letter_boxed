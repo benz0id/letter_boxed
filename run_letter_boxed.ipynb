{
 "cells": [
  {
   "cell_type": "code",
   "execution_count": 1,
   "id": "initial_id",
   "metadata": {
    "collapsed": true,
    "ExecuteTime": {
     "end_time": "2024-03-17T18:30:51.195821Z",
     "start_time": "2024-03-17T18:30:51.118146Z"
    }
   },
   "outputs": [],
   "source": [
    "from letterboxed_solver import *"
   ]
  },
  {
   "cell_type": "markdown",
   "source": [
    "# Define Your Board"
   ],
   "metadata": {
    "collapsed": false
   },
   "id": "44753a992294008e"
  },
  {
   "cell_type": "code",
   "outputs": [],
   "source": [
    "board = Board(('acb', 'def', 'pal', 'xyz'))"
   ],
   "metadata": {
    "collapsed": false,
    "ExecuteTime": {
     "end_time": "2024-03-17T18:30:51.198623Z",
     "start_time": "2024-03-17T18:30:51.197145Z"
    }
   },
   "id": "1999c6e97afe70c7",
   "execution_count": 2
  },
  {
   "cell_type": "code",
   "outputs": [],
   "source": [
    "# Optional Parameters\n",
    "\n",
    "# Number of solutions to find before returning.\n",
    "NUM_SOLUTIONS = 20\n",
    "# Maximum number of words to search for.\n",
    "MAX_WORDS = 10\n",
    "# Search in random, non-alphabetic order.\n",
    "STOCHASTIC = False"
   ],
   "metadata": {
    "collapsed": false,
    "ExecuteTime": {
     "end_time": "2024-03-17T18:30:51.200766Z",
     "start_time": "2024-03-17T18:30:51.199236Z"
    }
   },
   "id": "4ed90a79808f18fe",
   "execution_count": 3
  },
  {
   "cell_type": "markdown",
   "source": [
    "# Parse, Filter, and Optimize Words"
   ],
   "metadata": {
    "collapsed": false
   },
   "id": "f68ad1fb0b7d30a2"
  },
  {
   "cell_type": "code",
   "outputs": [
    {
     "name": "stdout",
     "output_type": "stream",
     "text": [
      "\n",
      " Total Entries: 232487\n",
      " Bad Entries: 108289\n",
      " Non-Alphabetical Entries: 9069\n",
      " Incompatible with Board: 114833\n",
      " Proper Nouns: 4\n",
      " Obsolete: 51\n",
      " Considered: 241\n",
      " Final Optimal Words: 97\n"
     ]
    }
   ],
   "source": [
    "outfile = Path('raw_words.pkl')\n",
    "with open(outfile, 'rb') as f:\n",
    "        raw_words = pickle.load(f)\n",
    "optimal_words = get_allowable_words(board, raw_words, verbose=True)"
   ],
   "metadata": {
    "collapsed": false,
    "ExecuteTime": {
     "end_time": "2024-03-17T18:30:51.276944Z",
     "start_time": "2024-03-17T18:30:51.201323Z"
    }
   },
   "id": "f9f7226cff2e416c",
   "execution_count": 4
  },
  {
   "cell_type": "markdown",
   "source": [
    "# Get Solutions"
   ],
   "metadata": {
    "collapsed": false
   },
   "id": "72d5ecd4f6bc9957"
  },
  {
   "cell_type": "code",
   "outputs": [
    {
     "name": "stdout",
     "output_type": "stream",
     "text": [
      "10000\n",
      "\t Best Set: {'d', 'e', 'b', 'z', 'a', 'y', 'p', 'l', 'x', 'c'}\n",
      "\t Depth   : 5\n",
      "20000\n",
      "\t Best Set: {'d', 'e', 'b', 'f', 'a', 'z', 'y', 'p', 'l', 'x', 'c'}\n",
      "\t Depth   : 6\n",
      "30000\n",
      "\t Best Set: {'d', 'e', 'b', 'f', 'a', 'z', 'y', 'p', 'l', 'x', 'c'}\n",
      "\t Depth   : 6\n",
      "40000\n",
      "\t Best Set: {'d', 'e', 'b', 'f', 'a', 'z', 'y', 'p', 'l', 'x', 'c'}\n",
      "\t Depth   : 6\n",
      "50000\n",
      "\t Best Set: {'d', 'e', 'b', 'f', 'a', 'z', 'y', 'p', 'l', 'x', 'c'}\n",
      "\t Depth   : 6\n",
      "60000\n",
      "\t Best Set: {'d', 'e', 'b', 'f', 'a', 'z', 'y', 'p', 'l', 'x', 'c'}\n",
      "\t Depth   : 6\n",
      "70000\n",
      "\t Best Set: {'d', 'e', 'b', 'f', 'a', 'z', 'y', 'p', 'l', 'x', 'c'}\n",
      "\t Depth   : 6\n",
      "80000\n",
      "\t Best Set: {'d', 'e', 'b', 'f', 'a', 'z', 'y', 'p', 'l', 'x', 'c'}\n",
      "\t Depth   : 6\n",
      "90000\n",
      "\t Best Set: {'d', 'e', 'b', 'f', 'a', 'z', 'y', 'p', 'l', 'x', 'c'}\n",
      "\t Depth   : 6\n",
      "100000\n",
      "\t Best Set: {'d', 'e', 'b', 'f', 'a', 'z', 'y', 'p', 'l', 'x', 'c'}\n",
      "\t Depth   : 6\n"
     ]
    }
   ],
   "source": [
    "solutions = find_solutions(board, optimal_words, MAX_WORDS + 1, NUM_SOLUTIONS, stochastic=False, verbose=True)"
   ],
   "metadata": {
    "collapsed": false,
    "ExecuteTime": {
     "end_time": "2024-03-17T18:30:57.519099Z",
     "start_time": "2024-03-17T18:30:51.278360Z"
    }
   },
   "id": "267a34bd8a836b2d",
   "execution_count": 5
  },
  {
   "cell_type": "code",
   "outputs": [
    {
     "name": "stdout",
     "output_type": "stream",
     "text": [
      "\n",
      "=== Solution 1 ===\n",
      "\tAdapa\n",
      "\tAlfalfa\n",
      "\tAdze\n",
      "\tExcel\n",
      "\tLayby\n",
      "\n",
      "=== Solution 2 ===\n",
      "\tAlfalfa\n",
      "\tAdapa\n",
      "\tAdze\n",
      "\tExcel\n",
      "\tLayby\n",
      "\n",
      "=== Solution 3 ===\n",
      "\tAdapa\n",
      "\tAlb\n",
      "\tBlaze\n",
      "\tExcel\n",
      "\tLeafy\n",
      "\n",
      "=== Solution 4 ===\n",
      "\tAlfalfa\n",
      "\tAdze\n",
      "\tExcel\n",
      "\tLapel\n",
      "\tLayby\n",
      "\n",
      "=== Solution 5 ===\n",
      "\tAdapa\n",
      "\tAdze\n",
      "\tExcel\n",
      "\tLeafy\n",
      "\tYbe\n",
      "\n",
      "=== Solution 6 ===\n",
      "\tAdapa\n",
      "\tAdze\n",
      "\tExcel\n",
      "\tLayby\n",
      "\tYaf\n",
      "\n",
      "=== Solution 7 ===\n",
      "\tAlfalfa\n",
      "\tAdze\n",
      "\tExcel\n",
      "\tLayby\n",
      "\tYap\n",
      "\n",
      "=== Solution 8 ===\n",
      "\tAdapa\n",
      "\tAfl\n",
      "\tLaze\n",
      "\tExcel\n",
      "\tLayby\n",
      "\n",
      "=== Solution 9 ===\n",
      "\tAzalea\n",
      "\tApex\n",
      "\tXebec\n",
      "\tClad\n",
      "\tDayfly\n",
      "\n",
      "=== Solution 10 ===\n",
      "\tAlfalfa\n",
      "\tAdz\n",
      "\tZebec\n",
      "\tCycle\n",
      "\tExpel\n",
      "\n",
      "=== Solution 11 ===\n",
      "\tAdze\n",
      "\tExcel\n",
      "\tLapel\n",
      "\tLeafy\n",
      "\tYbe\n",
      "\n",
      "=== Solution 12 ===\n",
      "\tAdze\n",
      "\tExcel\n",
      "\tLapel\n",
      "\tLayby\n",
      "\tYaf\n",
      "\n",
      "=== Solution 13 ===\n",
      "\tAdze\n",
      "\tExcel\n",
      "\tLeafy\n",
      "\tYbe\n",
      "\tExpel\n",
      "\n",
      "=== Solution 14 ===\n",
      "\tAdze\n",
      "\tExpel\n",
      "\tLeafy\n",
      "\tYbe\n",
      "\tExcel\n",
      "\n",
      "=== Solution 15 ===\n",
      "\tAdze\n",
      "\tExcel\n",
      "\tLayby\n",
      "\tYaf\n",
      "\tFlap\n",
      "\n",
      "=== Solution 16 ===\n",
      "\tAdze\n",
      "\tExcel\n",
      "\tLayby\n",
      "\tYap\n",
      "\tPelf\n",
      "\n",
      "=== Solution 17 ===\n",
      "\tAdz\n",
      "\tZebec\n",
      "\tCpa\n",
      "\tAfl\n",
      "\tLaxly\n",
      "\n",
      "=== Solution 18 ===\n",
      "\tAdz\n",
      "\tZebec\n",
      "\tCpa\n",
      "\tAxal\n",
      "\tLeafy\n",
      "\n",
      "=== Solution 19 ===\n",
      "\tAdz\n",
      "\tZebec\n",
      "\tCycle\n",
      "\tExpel\n",
      "\tLeaf\n",
      "\n",
      "=== Solution 20 ===\n",
      "\tAdz\n",
      "\tZebec\n",
      "\tClape\n",
      "\tExcel\n",
      "\tLeafy\n"
     ]
    }
   ],
   "source": [
    "for i, solution in enumerate(solutions):\n",
    "    s = f'\\n=== Solution {i + 1} ==='\n",
    "    for word in solution:\n",
    "        acc_word = word.word\n",
    "        acc_word = acc_word[0].upper() + acc_word[1:].lower()\n",
    "        s += f'\\n\\t{acc_word}'\n",
    "    print(s)"
   ],
   "metadata": {
    "collapsed": false,
    "ExecuteTime": {
     "end_time": "2024-03-17T18:30:57.522152Z",
     "start_time": "2024-03-17T18:30:57.519820Z"
    }
   },
   "id": "351eabb3a56c3047",
   "execution_count": 6
  }
 ],
 "metadata": {
  "kernelspec": {
   "display_name": "Python 3",
   "language": "python",
   "name": "python3"
  },
  "language_info": {
   "codemirror_mode": {
    "name": "ipython",
    "version": 2
   },
   "file_extension": ".py",
   "mimetype": "text/x-python",
   "name": "python",
   "nbconvert_exporter": "python",
   "pygments_lexer": "ipython2",
   "version": "2.7.6"
  }
 },
 "nbformat": 4,
 "nbformat_minor": 5
}
